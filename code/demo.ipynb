{
 "cells": [
  {
   "cell_type": "code",
   "execution_count": 7,
   "source": [
    "# Load mock data\n",
    "import featuretools as ft\n",
    "data = ft.demo.load_mock_customer()"
   ],
   "outputs": [],
   "metadata": {}
  },
  {
   "cell_type": "code",
   "execution_count": 8,
   "source": [
    "# Split mock data into dfs\n",
    "customers_df = data['customers']\n",
    "print('sample of customers_df')\n",
    "print(customers_df.sample(5))\n",
    "\n",
    "sessions_df = data['sessions']\n",
    "print('sample of sessions_df')\n",
    "print(sessions_df.sample(5))\n",
    "\n",
    "transactions_df = data['transactions']\n",
    "print('sample of transactions_df')\n",
    "print(transactions_df.sample(5))"
   ],
   "outputs": [
    {
     "output_type": "stream",
     "name": "stdout",
     "text": [
      "sample of customers_df\n",
      "   customer_id zip_code           join_date date_of_birth\n",
      "3            4    60091 2011-04-08 20:08:14    2006-08-15\n",
      "2            3    13244 2011-08-13 15:42:34    2003-11-21\n",
      "0            1    60091 2011-04-17 10:48:33    1994-07-18\n",
      "4            5    60091 2010-07-17 05:27:50    1984-07-28\n",
      "1            2    13244 2012-04-15 23:31:04    1986-08-18\n",
      "sample of sessions_df\n",
      "    session_id  customer_id   device       session_start\n",
      "13          14            1   tablet 2014-01-01 03:28:00\n",
      "6            7            3   tablet 2014-01-01 01:39:40\n",
      "1            2            5   mobile 2014-01-01 00:17:20\n",
      "29          30            5  desktop 2014-01-01 07:27:25\n",
      "18          19            3  desktop 2014-01-01 04:27:35\n",
      "sample of transactions_df\n",
      "     transaction_id  session_id    transaction_time product_id  amount\n",
      "74              232           5 2014-01-01 01:20:10          1  139.20\n",
      "231              27          17 2014-01-01 04:10:15          2   90.79\n",
      "434              36          31 2014-01-01 07:50:10          3   62.35\n",
      "420              56          30 2014-01-01 07:35:00          3   72.70\n",
      "54              444           4 2014-01-01 00:58:30          4   43.59\n"
     ]
    }
   ],
   "metadata": {}
  },
  {
   "cell_type": "code",
   "execution_count": 9,
   "source": [
    "# Specify a dictionary with all entities in dataset\n",
    "entities = {\n",
    "    'customers': (customers_df, 'customer_id'),\n",
    "    'sessions': (sessions_df, 'session_id', 'session_start'),\n",
    "    'transactions': (transactions_df, 'transaction_id', 'transaction_time')\n",
    "}\n",
    "\n",
    "# Specify how entities are related\n",
    "relationships = [\n",
    "    # Link 'customer_id' in 'sessions' to 'customer_id' in 'transactions'\n",
    "    ('sessions', 'session_id', 'transactions', 'session_id'),\n",
    "    # Link 'customer_id' in 'customers' to 'customer_id' in 'sessions'\n",
    "    ('customers', 'customer_id', 'sessions', 'customer_id')]"
   ],
   "outputs": [],
   "metadata": {}
  },
  {
   "cell_type": "code",
   "execution_count": 22,
   "source": [
    "# Run Deep Feature Synthesis target_entity='sessions'\n",
    "feature_matrix_sessions, session_features_defs = ft.dfs(\n",
    "    entities=entities,\n",
    "    relationships=relationships,\n",
    "    target_entity='sessions')\n",
    "print('the feature_matrix_sessions')\n",
    "print(feature_matrix_sessions.sample(5))"
   ],
   "outputs": [
    {
     "output_type": "stream",
     "name": "stdout",
     "text": [
      "the feature_matrix_sessions\n",
      "            customer_id   device  COUNT(transactions)  \\\n",
      "session_id                                              \n",
      "1                     2  desktop                   16   \n",
      "13                    4   mobile                   12   \n",
      "30                    5  desktop                   14   \n",
      "17                    2   tablet                   13   \n",
      "3                     4   mobile                   15   \n",
      "\n",
      "            MAX(transactions.amount)  MEAN(transactions.amount)  \\\n",
      "session_id                                                        \n",
      "1                             141.66                  76.813125   \n",
      "13                            142.28                  78.963333   \n",
      "30                            144.53                  87.223571   \n",
      "17                            118.85                  77.304615   \n",
      "3                             147.73                  88.600000   \n",
      "\n",
      "            MIN(transactions.amount)  MODE(transactions.product_id)  \\\n",
      "session_id                                                            \n",
      "1                              20.91                              3   \n",
      "13                              5.73                              2   \n",
      "30                              7.55                              3   \n",
      "17                             21.82                              1   \n",
      "3                               8.70                              1   \n",
      "\n",
      "            NUM_UNIQUE(transactions.product_id)  SKEW(transactions.amount)  \\\n",
      "session_id                                                                   \n",
      "1                                             5                   0.295458   \n",
      "13                                            4                  -0.169461   \n",
      "30                                            5                  -0.200571   \n",
      "17                                            5                  -0.314918   \n",
      "3                                             5                  -0.324012   \n",
      "\n",
      "            STD(transactions.amount)  ...  customers.STD(transactions.amount)  \\\n",
      "session_id                            ...                                       \n",
      "1                          41.600976  ...                           37.705178   \n",
      "13                         54.293903  ...                           45.068765   \n",
      "30                         39.658094  ...                           44.095630   \n",
      "17                         33.725036  ...                           37.705178   \n",
      "3                          46.240016  ...                           45.068765   \n",
      "\n",
      "            customers.SUM(transactions.amount)  customers.DAY(date_of_birth)  \\\n",
      "session_id                                                                     \n",
      "1                                      7200.28                            18   \n",
      "13                                     8727.68                            15   \n",
      "30                                     6349.66                            28   \n",
      "17                                     7200.28                            18   \n",
      "3                                      8727.68                            15   \n",
      "\n",
      "            customers.DAY(join_date)  customers.MONTH(date_of_birth)  \\\n",
      "session_id                                                             \n",
      "1                                 15                               8   \n",
      "13                                 8                               8   \n",
      "30                                17                               7   \n",
      "17                                15                               8   \n",
      "3                                  8                               8   \n",
      "\n",
      "           customers.MONTH(join_date)  customers.WEEKDAY(date_of_birth)  \\\n",
      "session_id                                                                \n",
      "1                                   4                                 0   \n",
      "13                                  4                                 1   \n",
      "30                                  7                                 5   \n",
      "17                                  4                                 0   \n",
      "3                                   4                                 1   \n",
      "\n",
      "            customers.WEEKDAY(join_date)  customers.YEAR(date_of_birth)  \\\n",
      "session_id                                                                \n",
      "1                                      6                           1986   \n",
      "13                                     4                           2006   \n",
      "30                                     5                           1984   \n",
      "17                                     6                           1986   \n",
      "3                                      4                           2006   \n",
      "\n",
      "            customers.YEAR(join_date)  \n",
      "session_id                             \n",
      "1                                2012  \n",
      "13                               2011  \n",
      "30                               2010  \n",
      "17                               2012  \n",
      "3                                2011  \n",
      "\n",
      "[5 rows x 44 columns]\n"
     ]
    }
   ],
   "metadata": {}
  },
  {
   "cell_type": "code",
   "execution_count": 23,
   "source": [
    "print('the session_features_defs[18]')\n",
    "print(session_features_defs[18])"
   ],
   "outputs": [
    {
     "output_type": "stream",
     "name": "stdout",
     "text": [
      "the session_features_defs[18]\n",
      "<Feature: MODE(transactions.WEEKDAY(transaction_time))>\n"
     ]
    }
   ],
   "metadata": {}
  },
  {
   "cell_type": "code",
   "execution_count": 28,
   "source": [
    "print('the session_features_defs[18] lineage graphs')\n",
    "ft.graph_feature(feature=session_features_defs[18], to_file='../viz/demo_session-features-def18_graphviz.png')"
   ],
   "outputs": [
    {
     "output_type": "stream",
     "name": "stdout",
     "text": [
      "the session_features_defs[18] lineage graphs\n"
     ]
    },
    {
     "output_type": "execute_result",
     "data": {
      "text/plain": [
       "<graphviz.dot.Digraph at 0x132923190>"
      ],
      "image/svg+xml": "<?xml version=\"1.0\" encoding=\"UTF-8\" standalone=\"no\"?>\n<!DOCTYPE svg PUBLIC \"-//W3C//DTD SVG 1.1//EN\"\n \"http://www.w3.org/Graphics/SVG/1.1/DTD/svg11.dtd\">\n<!-- Generated by graphviz version 2.47.3 (20210619.1520)\n -->\n<!-- Title: MODE(transactions.WEEKDAY(transaction_time)) Pages: 1 -->\n<svg width=\"1216pt\" height=\"164pt\"\n viewBox=\"0.00 0.00 1216.00 164.00\" xmlns=\"http://www.w3.org/2000/svg\" xmlns:xlink=\"http://www.w3.org/1999/xlink\">\n<g id=\"graph0\" class=\"graph\" transform=\"scale(1 1) rotate(0) translate(4 160)\">\n<title>MODE(transactions.WEEKDAY(transaction_time))</title>\n<polygon fill=\"white\" stroke=\"transparent\" points=\"-4,4 -4,-160 1212,-160 1212,4 -4,4\"/>\n<!-- sessions -->\n<g id=\"node1\" class=\"node\">\n<title>sessions</title>\n<polygon fill=\"#a9a9a9\" stroke=\"transparent\" points=\"892,-79 892,-116 1200,-116 1200,-79 892,-79\"/>\n<polygon fill=\"none\" stroke=\"black\" points=\"892,-79 892,-116 1200,-116 1200,-79 892,-79\"/>\n<text text-anchor=\"start\" x=\"990.5\" y=\"-94.8\" font-family=\"Times,serif\" font-weight=\"bold\" font-size=\"14.00\">★ sessions (target)</text>\n<polygon fill=\"#d9ead3\" stroke=\"transparent\" points=\"892,-42 892,-79 1200,-79 1200,-42 892,-42\"/>\n<polygon fill=\"none\" stroke=\"black\" points=\"892,-42 892,-79 1200,-79 1200,-42 892,-42\"/>\n<text text-anchor=\"start\" x=\"903\" y=\"-56.8\" font-family=\"Times,serif\" font-size=\"14.00\">MODE(transactions.WEEKDAY(transaction_time))</text>\n</g>\n<!-- transactions -->\n<g id=\"node2\" class=\"node\">\n<title>transactions</title>\n<polygon fill=\"#a9a9a9\" stroke=\"transparent\" points=\"264.5,-115 264.5,-152 455.5,-152 455.5,-115 264.5,-115\"/>\n<polygon fill=\"none\" stroke=\"black\" points=\"264.5,-115 264.5,-152 455.5,-152 455.5,-115 264.5,-115\"/>\n<text text-anchor=\"start\" x=\"324.5\" y=\"-130.8\" font-family=\"Times,serif\" font-weight=\"bold\" font-size=\"14.00\">transactions</text>\n<polygon fill=\"none\" stroke=\"black\" points=\"264.5,-78 264.5,-115 455.5,-115 455.5,-78 264.5,-78\"/>\n<text text-anchor=\"start\" x=\"275.5\" y=\"-92.8\" font-family=\"Times,serif\" font-size=\"14.00\">session_id</text>\n<polygon fill=\"none\" stroke=\"black\" points=\"264.5,-41 264.5,-78 455.5,-78 455.5,-41 264.5,-41\"/>\n<text text-anchor=\"start\" x=\"275.5\" y=\"-55.8\" font-family=\"Times,serif\" font-size=\"14.00\">transaction_time</text>\n<polygon fill=\"none\" stroke=\"black\" points=\"264.5,-4 264.5,-41 455.5,-41 455.5,-4 264.5,-4\"/>\n<text text-anchor=\"start\" x=\"275.5\" y=\"-18.8\" font-family=\"Times,serif\" font-size=\"14.00\">WEEKDAY(transaction_time)</text>\n</g>\n<!-- 1_WEEKDAY(transaction_time)_weekday -->\n<g id=\"node4\" class=\"node\">\n<title>1_WEEKDAY(transaction_time)_weekday</title>\n<polygon fill=\"none\" stroke=\"black\" points=\"110,-75 0,-41 110,-7 220,-41 110,-75\"/>\n<text text-anchor=\"start\" x=\"63\" y=\"-45.4\" font-family=\"Times,serif\" font-weight=\"bold\" font-size=\"12.00\">Step 1:</text>\n<text text-anchor=\"start\" x=\"99\" y=\"-45.4\" font-family=\"Times,serif\" font-size=\"12.00\"> &#160;&#160;Transform</text>\n<text text-anchor=\"start\" x=\"75.5\" y=\"-31.8\" font-family=\"Times,serif\" font-size=\"14.00\">WEEKDAY</text>\n</g>\n<!-- transactions&#45;&gt;1_WEEKDAY(transaction_time)_weekday -->\n<g id=\"edge4\" class=\"edge\">\n<title>transactions:transaction_time&#45;&gt;1_WEEKDAY(transaction_time)_weekday</title>\n<path fill=\"none\" stroke=\"black\" d=\"M263.5,-59C240.16,-59 214.95,-56.89 191.88,-54.12\"/>\n<polygon fill=\"black\" stroke=\"black\" points=\"192.15,-50.63 181.79,-52.86 191.27,-57.58 192.15,-50.63\"/>\n</g>\n<!-- MODE(transactions.WEEKDAY(transaction_time))_groupby_transactions&#45;&#45;session_id -->\n<g id=\"node5\" class=\"node\">\n<title>MODE(transactions.WEEKDAY(transaction_time))_groupby_transactions&#45;&#45;session_id</title>\n<polygon fill=\"none\" stroke=\"black\" points=\"572,-79 499,-79 499,-41 572,-41 572,-79\"/>\n<text text-anchor=\"middle\" x=\"535.5\" y=\"-63.8\" font-family=\"Times,serif\" font-size=\"14.00\">group by</text>\n<text text-anchor=\"middle\" x=\"535.5\" y=\"-48.8\" font-family=\"Times,serif\" font-size=\"14.00\">session_id</text>\n</g>\n<!-- transactions&#45;&gt;MODE(transactions.WEEKDAY(transaction_time))_groupby_transactions&#45;&#45;session_id -->\n<g id=\"edge5\" class=\"edge\">\n<title>transactions:WEEKDAY(transaction_time)&#45;&gt;MODE(transactions.WEEKDAY(transaction_time))_groupby_transactions&#45;&#45;session_id</title>\n<path fill=\"none\" stroke=\"black\" d=\"M456.5,-22C472.04,-22 487.73,-28.17 500.92,-35.54\"/>\n<polygon fill=\"black\" stroke=\"black\" points=\"499.24,-38.62 509.62,-40.78 502.85,-32.62 499.24,-38.62\"/>\n</g>\n<!-- transactions&#45;&gt;MODE(transactions.WEEKDAY(transaction_time))_groupby_transactions&#45;&#45;session_id -->\n<g id=\"edge6\" class=\"edge\">\n<title>transactions:session_id&#45;&gt;MODE(transactions.WEEKDAY(transaction_time))_groupby_transactions&#45;&#45;session_id</title>\n<path fill=\"none\" stroke=\"black\" stroke-dasharray=\"1,5\" d=\"M456.5,-97C475.23,-97 494.27,-88.18 508.85,-79.15\"/>\n</g>\n<!-- 0_MODE(transactions.WEEKDAY(transaction_time))_mode -->\n<g id=\"node3\" class=\"node\">\n<title>0_MODE(transactions.WEEKDAY(transaction_time))_mode</title>\n<polygon fill=\"none\" stroke=\"black\" points=\"728,-94 608,-60 728,-26 848,-60 728,-94\"/>\n<text text-anchor=\"start\" x=\"676\" y=\"-64.4\" font-family=\"Times,serif\" font-weight=\"bold\" font-size=\"12.00\">Step 2:</text>\n<text text-anchor=\"start\" x=\"712\" y=\"-64.4\" font-family=\"Times,serif\" font-size=\"12.00\"> &#160;&#160;Aggregation</text>\n<text text-anchor=\"start\" x=\"707.5\" y=\"-50.8\" font-family=\"Times,serif\" font-size=\"14.00\">MODE</text>\n</g>\n<!-- 0_MODE(transactions.WEEKDAY(transaction_time))_mode&#45;&gt;sessions -->\n<g id=\"edge1\" class=\"edge\">\n<title>0_MODE(transactions.WEEKDAY(transaction_time))_mode&#45;&gt;sessions:MODE(transactions.WEEKDAY(transaction_time))</title>\n<path fill=\"none\" stroke=\"black\" d=\"M848.44,-60C859.3,-60 870.23,-60 880.88,-60\"/>\n<polygon fill=\"black\" stroke=\"black\" points=\"881,-63.5 891,-60 881,-56.5 881,-63.5\"/>\n</g>\n<!-- 1_WEEKDAY(transaction_time)_weekday&#45;&gt;transactions -->\n<g id=\"edge3\" class=\"edge\">\n<title>1_WEEKDAY(transaction_time)_weekday&#45;&gt;transactions:WEEKDAY(transaction_time)</title>\n<path fill=\"none\" stroke=\"black\" d=\"M180.24,-28.7C203.11,-25.49 228.97,-22.75 253.46,-22.13\"/>\n<polygon fill=\"black\" stroke=\"black\" points=\"253.55,-25.63 263.5,-22 253.46,-18.63 253.55,-25.63\"/>\n</g>\n<!-- MODE(transactions.WEEKDAY(transaction_time))_groupby_transactions&#45;&#45;session_id&#45;&gt;0_MODE(transactions.WEEKDAY(transaction_time))_mode -->\n<g id=\"edge2\" class=\"edge\">\n<title>MODE(transactions.WEEKDAY(transaction_time))_groupby_transactions&#45;&#45;session_id&#45;&gt;0_MODE(transactions.WEEKDAY(transaction_time))_mode</title>\n<path fill=\"none\" stroke=\"black\" d=\"M572.33,-60C580.09,-60 588.72,-60 597.83,-60\"/>\n<polygon fill=\"black\" stroke=\"black\" points=\"597.88,-63.5 607.88,-60 597.88,-56.5 597.88,-63.5\"/>\n</g>\n</g>\n</svg>\n"
     },
     "metadata": {},
     "execution_count": 28
    }
   ],
   "metadata": {}
  },
  {
   "cell_type": "code",
   "execution_count": 30,
   "source": [
    "print('the session_features_defs[18] describe')\n",
    "print(ft.describe_feature(session_features_defs[18]))"
   ],
   "outputs": [
    {
     "output_type": "stream",
     "name": "stdout",
     "text": [
      "the session_features_defs[18] describe\n",
      "The most frequently occurring value of the day of the week of the \"transaction_time\" of all instances of \"transactions\" for each \"session_id\" in \"sessions\".\n"
     ]
    }
   ],
   "metadata": {}
  },
  {
   "cell_type": "code",
   "execution_count": null,
   "source": [],
   "outputs": [],
   "metadata": {}
  }
 ],
 "metadata": {
  "orig_nbformat": 4,
  "language_info": {
   "name": "python",
   "version": "3.8.2",
   "mimetype": "text/x-python",
   "codemirror_mode": {
    "name": "ipython",
    "version": 3
   },
   "pygments_lexer": "ipython3",
   "nbconvert_exporter": "python",
   "file_extension": ".py"
  },
  "kernelspec": {
   "name": "python3",
   "display_name": "Python 3.8.2 64-bit ('venv_alteryx-featuretools': venv)"
  },
  "interpreter": {
   "hash": "ca708e527529b79592378f7c023429603f3364f79b47d132e177d008f516cae2"
  }
 },
 "nbformat": 4,
 "nbformat_minor": 2
}